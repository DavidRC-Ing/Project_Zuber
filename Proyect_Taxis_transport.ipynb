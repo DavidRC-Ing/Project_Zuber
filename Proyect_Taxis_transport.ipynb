{
 "cells": [
  {
   "cell_type": "markdown",
   "id": "07935841",
   "metadata": {},
   "source": [
    "# PROJECT COMPANY ZUBER\n",
    "\n"
   ]
  },
  {
   "cell_type": "markdown",
   "id": "a161c265",
   "metadata": {},
   "source": [
    "## Introduccion "
   ]
  },
  {
   "cell_type": "markdown",
   "id": "bd7a0478",
   "metadata": {},
   "source": [
    "Zuber, una startup de movilidad compartida que está ingresando al mercado de Chicago, requiere analizar los patrones de comportamiento y preferencias de sus usuarios potenciales, así como evaluar el impacto de factores externos en la demanda del servicio.\n",
    "\n",
    "Para ello, se realizó una extracción estructurada de datos mediante consultas SQL optimizadas, seguida de procesos de limpieza y transformación (ETL) para garantizar la calidad de los datos. El análisis posterior permitió identificar tendencias clave y correlaciones significativas, generando insights basados en datos que respaldan la estrategia de penetración de mercado y la optimización de operaciones."
   ]
  },
  {
   "cell_type": "markdown",
   "id": "e09a0ecb",
   "metadata": {},
   "source": [
    "## Carga de datos "
   ]
  },
  {
   "cell_type": "markdown",
   "id": "0400211d",
   "metadata": {},
   "source": [
    "De a cuerdo a los datos extraidos para el desarrollo del proyecto, exponemos el contenido y el nombre que adoptaran los archivos csv para el desarrollo de los dataframes y los analisis posteriores a estos:\n",
    "\n",
    "`project_sql_result_01.csv`. Contiene los siguientes datos:\n",
    "\n",
    "   -```company_name```: nombre de la empresa de taxis.\n",
    "\n",
    "   -`trips_amount`: el número de viajes de cada compañía de taxis el 15 y 16 de noviembre de 2017.\n",
    "\n",
    "`project_sql_result_04.csv`. Contiene los siguientes datos:\n",
    "\n",
    "   -`dropoff_location_name`: barrios de Chicago donde finalizaron los viajes.\n",
    "\n",
    "   -`average_trips`: el promedio de viajes que terminaron en cada barrio en noviembre de 2017.\n",
    "\n",
    "`project_sql_result_07.csv`. Contiene datos sobre viajes desde el Loop hasta el Aeropuerto Internacional O'Hare. Recuerda, estos son los valores de campo de la tabla:\n",
    "\n",
    "   -`start_ts`: fecha y hora de recogida.\n",
    "\n",
    "   -`weather_conditions`: condiciones climáticas en el momento en el que comenzó el viaje.\n",
    "\n",
    "   -`duration_seconds`: duración del viaje en segundos.\n"
   ]
  },
  {
   "cell_type": "code",
   "execution_count": 129,
   "id": "2b950039",
   "metadata": {},
   "outputs": [],
   "source": [
    "# Cargar todas las librerías\n",
    "import pandas as pd\n",
    "pd.options.display.max_columns = None\n",
    "pd.set_option('display.max_rows', None) \n",
    "pd.set_option('display.max_columns', None)\n",
    "import numpy as np\n",
    "from scipy import stats as st\n"
   ]
  },
  {
   "cell_type": "code",
   "execution_count": 130,
   "id": "e4e2c529",
   "metadata": {},
   "outputs": [],
   "source": [
    "# project_sql_result_01.csv acogera el nombre de company_and_trips\n",
    "\n",
    "company_and_trips=pd.read_csv('/Users/ASUS/OneDrive/Documentos/Tripleten/Proyecto Spring 8/moved_project_sql_result_01.csv', sep=',')\n",
    "\n",
    "# project_sql_result_04.csv acogera el nombre de dropoff_location_avg \n",
    "\n",
    "dropoff_location_avg=pd.read_csv('/Users/ASUS/OneDrive/Documentos/Tripleten/Proyecto Spring 8/moved_project_sql_result_04.csv', sep=',')\n",
    "\n",
    "# project_sql_result_07.csv acogera el nombre de start_weather\n",
    "\n",
    "start_weather=pd.read_csv('/Users/ASUS/OneDrive/Documentos/Tripleten/Proyecto Spring 8/moved_project_sql_result_07.csv', sep=',')"
   ]
  },
  {
   "cell_type": "markdown",
   "id": "62cc6f71",
   "metadata": {},
   "source": [
    "## Nombres asignados a los DataFrames\n",
    "\n",
    "Para garantizar un desarrollo estructurado y eficiente del proyecto, se asignaron nombres descriptivos a los *DataFrames* generados a partir de las consultas SQL. Esta práctica permite mantener un flujo de trabajo organizado y facilita la interpretación de los resultados en las distintas etapas del análisis. Las asignaciones realizadas son las siguientes:\n",
    "\n",
    "- `company_and_trips`: corresponde al resultado de la consulta `project_sql_result_01`.\n",
    "- `dropoff_location_avg`: corresponde al resultado de la consulta `project_sql_result_04`.\n",
    "- `start_weather`: corresponde al resultado de la consulta `project_sql_result_07`.\n",
    "\n",
    "A continuación, se procederá con el análisis exploratorio de los datos.\n"
   ]
  },
  {
   "cell_type": "code",
   "execution_count": 131,
   "id": "35985728",
   "metadata": {},
   "outputs": [
    {
     "name": "stdout",
     "output_type": "stream",
     "text": [
      "<class 'pandas.core.frame.DataFrame'>\n",
      "RangeIndex: 64 entries, 0 to 63\n",
      "Data columns (total 2 columns):\n",
      " #   Column        Non-Null Count  Dtype \n",
      "---  ------        --------------  ----- \n",
      " 0   company_name  64 non-null     object\n",
      " 1   trips_amount  64 non-null     int64 \n",
      "dtypes: int64(1), object(1)\n",
      "memory usage: 1.1+ KB\n",
      "\n",
      "                                    company_name  trips_amount\n",
      "57                                   Metro Group            11\n",
      "52  3721 - Santamaria Express, Alvaro Santamaria            14\n",
      "22                          Chicago Independents          1296\n",
      "44                    2092 - 61288 Sbeih company            27\n",
      "39                   0118 - 42111 Godfrey S.Awir            33\n"
     ]
    }
   ],
   "source": [
    "# visualizacion preliminar de los dataframes\n",
    "\n",
    "company_and_trips.info()\n",
    "sample_company_and_trips= company_and_trips.sample(n=5)\n",
    "\n",
    "print()\n",
    "print(sample_company_and_trips)"
   ]
  },
  {
   "cell_type": "code",
   "execution_count": 132,
   "id": "c902c532",
   "metadata": {},
   "outputs": [
    {
     "name": "stdout",
     "output_type": "stream",
     "text": [
      "<class 'pandas.core.frame.DataFrame'>\n",
      "RangeIndex: 94 entries, 0 to 93\n",
      "Data columns (total 2 columns):\n",
      " #   Column                 Non-Null Count  Dtype  \n",
      "---  ------                 --------------  -----  \n",
      " 0   dropoff_location_name  94 non-null     object \n",
      " 1   average_trips          94 non-null     float64\n",
      "dtypes: float64(1), object(1)\n",
      "memory usage: 1.6+ KB\n",
      "\n",
      "   dropoff_location_name  average_trips\n",
      "66       Washington Park      16.033333\n",
      "21          North Center     393.266667\n",
      "74               Beverly      10.500000\n",
      "27              Avondale     208.233333\n",
      "82         South Deering       7.500000\n"
     ]
    }
   ],
   "source": [
    "# visualizacion preliminar de los dataframes\n",
    "dropoff_location_avg.info()\n",
    "sample_dropoff_location_avg= dropoff_location_avg.sample(n=5)\n",
    "\n",
    "print()\n",
    "print(sample_dropoff_location_avg)"
   ]
  },
  {
   "cell_type": "code",
   "execution_count": 133,
   "id": "0ffc47f2",
   "metadata": {},
   "outputs": [
    {
     "name": "stdout",
     "output_type": "stream",
     "text": [
      "<class 'pandas.core.frame.DataFrame'>\n",
      "RangeIndex: 1068 entries, 0 to 1067\n",
      "Data columns (total 3 columns):\n",
      " #   Column              Non-Null Count  Dtype  \n",
      "---  ------              --------------  -----  \n",
      " 0   start_ts            1068 non-null   object \n",
      " 1   weather_conditions  1068 non-null   object \n",
      " 2   duration_seconds    1068 non-null   float64\n",
      "dtypes: float64(1), object(2)\n",
      "memory usage: 25.2+ KB\n",
      "\n",
      "                start_ts weather_conditions  duration_seconds\n",
      "261  2017-11-04 17:00:00                Bad            2640.0\n",
      "448  2017-11-18 11:00:00               Good            2520.0\n",
      "593  2017-11-11 12:00:00               Good            2015.0\n",
      "178  2017-11-18 12:00:00                Bad            2934.0\n",
      "394  2017-11-18 07:00:00                Bad            1322.0\n"
     ]
    }
   ],
   "source": [
    "# visualizacion preliminar de los dataframes\n",
    "start_weather.info()\n",
    "\n",
    "sample_start_weather= start_weather.sample(n=5)\n",
    "\n",
    "print()\n",
    "print(sample_start_weather)"
   ]
  },
  {
   "cell_type": "code",
   "execution_count": null,
   "id": "5df82529",
   "metadata": {},
   "outputs": [],
   "source": []
  }
 ],
 "metadata": {
  "kernelspec": {
   "display_name": "Python 3",
   "language": "python",
   "name": "python3"
  },
  "language_info": {
   "codemirror_mode": {
    "name": "ipython",
    "version": 3
   },
   "file_extension": ".py",
   "mimetype": "text/x-python",
   "name": "python",
   "nbconvert_exporter": "python",
   "pygments_lexer": "ipython3",
   "version": "3.13.0"
  }
 },
 "nbformat": 4,
 "nbformat_minor": 5
}
