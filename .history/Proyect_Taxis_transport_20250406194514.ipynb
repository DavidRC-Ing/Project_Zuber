{
 "cells": [
  {
   "cell_type": "markdown",
   "id": "07935841",
   "metadata": {},
   "source": [
    "# PROJECT COMPANY ZUBER\n",
    "\n"
   ]
  },
  {
   "cell_type": "markdown",
   "id": "a161c265",
   "metadata": {},
   "source": [
    "## Introduccion "
   ]
  },
  {
   "cell_type": "markdown",
   "id": "bd7a0478",
   "metadata": {},
   "source": [
    "Zuber, una startup de movilidad compartida que está ingresando al mercado de Chicago, requiere analizar los patrones de comportamiento y preferencias de sus usuarios potenciales, así como evaluar el impacto de factores externos en la demanda del servicio.\n",
    "\n",
    "Para ello, se realizó una extracción estructurada de datos mediante consultas SQL optimizadas, seguida de procesos de limpieza y transformación (ETL) para garantizar la calidad de los datos. El análisis posterior permitió identificar tendencias clave y correlaciones significativas, generando insights basados en datos que respaldan la estrategia de penetración de mercado y la optimización de operaciones."
   ]
  },
  {
   "cell_type": "markdown",
   "id": "e09a0ecb",
   "metadata": {},
   "source": [
    "## Carga de datos "
   ]
  },
  {
   "cell_type": "markdown",
   "id": "0400211d",
   "metadata": {},
   "source": [
    "De a cuerdo a los datos extraidos para el desarrollo del proyecto, exponemos el contenido y el nombre que adoptaran los archivos csv para el desarrollo de los dataframes y los analisis posteriores a estos:\n",
    "\n",
    "`project_sql_result_01.csv`. Contiene los siguientes datos:\n",
    "\n",
    "`company_name`: nombre de la empresa de taxis.\n",
    "`trips_amount`: el número de viajes de cada compañía de taxis el 15 y 16 de noviembre de 2017.\n",
    "\n",
    "`project_sql_result_04.csv`. Contiene los siguientes datos:\n",
    "\n",
    "`dropoff_location_name`: barrios de Chicago donde finalizaron los viajes.\n",
    "`average_trips`: el promedio de viajes que terminaron en cada barrio en noviembre de 2017.\n",
    "\n"
   ]
  }
 ],
 "metadata": {
  "language_info": {
   "name": "python"
  }
 },
 "nbformat": 4,
 "nbformat_minor": 5
}
